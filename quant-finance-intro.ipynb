{
 "cells": [
  {
   "cell_type": "markdown",
   "metadata": {
    "slideshow": {
     "slide_type": "slide"
    }
   },
   "source": [
    "<h1 style=\"text-align: center;\"> A 1,000-ft Overview of Quant Finance </h1>\n",
    "<h4 style=\"text-align: center;\"><a href=\"https://github.com/bualpha/fall-lectures\">https://github.com/bualpha/fall-lectures</a></h4>"
   ]
  },
  {
   "cell_type": "markdown",
   "metadata": {
    "slideshow": {
     "slide_type": "slide"
    }
   },
   "source": [
    "# Outline\n",
    "\n",
    "- Define Quant Finance\n",
    "- Jobs as a Quant\n",
    "- Working examples\n",
    "- Quant Research Division\n",
    "- Introduction to Python"
   ]
  },
  {
   "cell_type": "markdown",
   "metadata": {
    "slideshow": {
     "slide_type": "slide"
    }
   },
   "source": [
    "# What is Quant Finance?\n",
    "\n",
    "*Mathematical finance, also known as quantitative finance, is a field of applied mathematics, concerned with financial markets. Generally, mathematical finance will derive and extend the mathematical or numerical models without necessarily establishing a link to financial theory, taking observed market prices as input. - Wikipedia*"
   ]
  },
  {
   "cell_type": "markdown",
   "metadata": {
    "slideshow": {
     "slide_type": "slide"
    }
   },
   "source": [
    "![](https://4580-presscdn-0-3-pagely.netdna-ssl.com/wp-content/uploads/2016/10/hangovermath3.png)"
   ]
  },
  {
   "cell_type": "markdown",
   "metadata": {
    "slideshow": {
     "slide_type": "slide"
    }
   },
   "source": [
    "# Let's dissect this a bit...\n",
    "\n",
    "*Mathematical finance, also known as quantitative finance, is a field of **applied mathematics**, concerned with **financial markets**. Generally, mathematical finance will derive and extend the **mathematical or numerical[statistical] models** without necessarily establishing a link to financial theory, taking observed **market prices as input**. - Wikipedia*"
   ]
  },
  {
   "cell_type": "markdown",
   "metadata": {
    "slideshow": {
     "slide_type": "slide"
    }
   },
   "source": [
    "# Quant Finance is Data Driven"
   ]
  },
  {
   "cell_type": "markdown",
   "metadata": {
    "slideshow": {
     "slide_type": "slide"
    }
   },
   "source": [
    "### Topics in Mathematics\n",
    "- Statistics; Inferential & Descriptive\n",
    "- Probability\n",
    "- Linear Algebra\n",
    "- Stochastic Calculus\n",
    "- Programming*"
   ]
  },
  {
   "cell_type": "markdown",
   "metadata": {
    "slideshow": {
     "slide_type": "slide"
    }
   },
   "source": [
    "# Background & Education\n",
    "\n",
    "Most people in Quant Finance highly technical backgrounds, typically in:\n",
    "\n",
    "- Mathematics\n",
    "- Statistics\n",
    "- Computer Science\n",
    "- Engineering\n",
    "- Physics\n"
   ]
  },
  {
   "cell_type": "markdown",
   "metadata": {
    "slideshow": {
     "slide_type": "slide"
    }
   },
   "source": [
    "... **But that doesn't mean you necessarily need that type of background**\n",
    "\n",
    "\n",
    "![](http://imgs.xkcd.com/comics/engineer_syllogism.png)"
   ]
  },
  {
   "attachments": {},
   "cell_type": "markdown",
   "metadata": {
    "slideshow": {
     "slide_type": "slide"
    }
   },
   "source": [
    "# Careers\n",
    "\n",
    "Typical role is as a Quantitative Analyst or Quantiative Researcher. Work might include:\n",
    "\n",
    "- Asset Pricing\n",
    "- Model Development*\n",
    "- Systems/Software Engineering (Quant Developer)\n",
    "- Statistical Arbitrage\n",
    "- Portfolio Optimization*\n",
    "- Risk Management*\n",
    "- Machine Learning/Deep Learning\n",
    "  \n",
    "```  \n",
    "```\n",
    "```\n",
    "```\n",
    "  \n",
    "  [ * ] Quant Research"
   ]
  },
  {
   "attachments": {},
   "cell_type": "markdown",
   "metadata": {
    "slideshow": {
     "slide_type": "slide"
    }
   },
   "source": [
    "Two Sigma Careers Listing"
   ]
  },
  {
   "cell_type": "markdown",
   "metadata": {
    "slideshow": {
     "slide_type": "slide"
    }
   },
   "source": [
    "# Quant Equity Workflow\n",
    "\n",
    "![](https://media.quantopian.com/blog/cio-blog-image-2x-1.png)\n",
    "\n",
    "[**Credits: Quantopian Blog**](https://blog.quantopian.com/a-professional-quant-equity-workflow/)"
   ]
  },
  {
   "cell_type": "markdown",
   "metadata": {
    "slideshow": {
     "slide_type": "slide"
    }
   },
   "source": [
    "# How do succesful quants operate?\n",
    "\n",
    "**Examining the data:** My goal here is to simply look at the dataset and understand what it looks like. I’ll be answering simple questions like, “How many stocks are covered?“; “Which sectors have the most coverage?“; and “What’s the distribution of sentiment scores?“. These are very basic but fundamentally important questions that lay the groundwork for all further development.\n",
    "\n",
    "\n",
    "**Research Design:** Here, I’ll be setting up my environment for hypothesis testing define my in and out-of-sample datasets both cross-sectionally and through liquidity thresholds.\n",
    "\n",
    "\n",
    "**Hypothesis Testing:** This is where I’ll be setting up a number of different hypotheses for my data and testing them through event studies and cross-sectional studies. The Factor Tearsheet and Event Study notebooks will be used heavily. The goal is to develop an alpha factor to use for strategy creation.\n",
    "\n",
    "\n",
    "**Strategy Creation:** After I’ve developed a hypothesis and seen that it holds up consistently over different liquidity and sector partitions in my in-sample dataset, I’ll finally begin the process of developing my trading strategy. I’ll be asking questions like “Is my factor strong enough by itself?“; “What is its correlation with other factors?“. Once these questions have been answered, the trading strategy will be constructed and I’ll move onto the next section\n",
    "\n",
    "\n",
    "**Out-Of-Sample Test:** Here, my main goal is to verify the work of steps 1~4 with my out-of-sample dataset. It will involve repeating many of the steps in 2~4 as well the use of the backtester (notice how only step 5 involves the backtester)\n",
    "\n",
    "[**Credits: Social Media Trader Mood Series**](https://www.quantopian.com/posts/the-social-media-trader-mood-series-introduction)"
   ]
  },
  {
   "cell_type": "markdown",
   "metadata": {
    "slideshow": {
     "slide_type": "slide"
    }
   },
   "source": [
    "# Working Examples\n",
    "\n",
    "- Hypothesis Testing\n",
    "- Momentum Algorithm\n",
    "- Machine Learning Pairs Trading Algorithm"
   ]
  },
  {
   "cell_type": "markdown",
   "metadata": {
    "slideshow": {
     "slide_type": "slide"
    }
   },
   "source": [
    "# Quant Research Division\n",
    "\n",
    "- 4 People; Preston, Raag, Vlad, Freddie\n",
    "- Backgrounds in Computer Science, Math, Philosophy, Finance\n",
    "- Work:\n",
    "\n",
    "  * Universe Selection\n",
    "  * Portfolio Optimization\n",
    "  * Risk Modeling\n",
    "  \n",
    "- Brand new: assembled over the summer in a 14 week period"
   ]
  },
  {
   "cell_type": "markdown",
   "metadata": {
    "slideshow": {
     "slide_type": "slide"
    }
   },
   "source": [
    "# Quant Finance is still in its infancy"
   ]
  }
 ],
 "metadata": {
  "celltoolbar": "Slideshow",
  "kernelspec": {
   "display_name": "Python 3",
   "language": "python",
   "name": "python3"
  },
  "language_info": {
   "codemirror_mode": {
    "name": "ipython",
    "version": 3
   },
   "file_extension": ".py",
   "mimetype": "text/x-python",
   "name": "python",
   "nbconvert_exporter": "python",
   "pygments_lexer": "ipython3",
   "version": "3.4.5"
  }
 },
 "nbformat": 4,
 "nbformat_minor": 2
}
